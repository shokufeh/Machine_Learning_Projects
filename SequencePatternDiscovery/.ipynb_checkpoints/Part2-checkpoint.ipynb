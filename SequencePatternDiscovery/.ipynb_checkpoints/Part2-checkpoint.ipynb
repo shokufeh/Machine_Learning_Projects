{
 "cells": [
  {
   "cell_type": "code",
   "execution_count": 2,
   "metadata": {},
   "outputs": [],
   "source": [
    "import pandas as pd\n",
    "from math import sqrt\n",
    "from distribution import Distribution\n",
    "from scipy.spatial import distance\n",
    "import numpy as np"
   ]
  },
  {
   "cell_type": "code",
   "execution_count": 3,
   "metadata": {},
   "outputs": [],
   "source": [
    "def main(argv):\n",
    "    pattern_sequence_path = argv[0]\n",
    "    long_sequence_path = argv[1]\n",
    "    \n",
    "pattern_sequence = []\n",
    "\n",
    "\n",
    "with open('pattern_sequence.txt', 'r') as f:\n",
    "        for line in f:\n",
    "            pattern_sequence.append(float(line))"
   ]
  },
  {
   "cell_type": "code",
   "execution_count": 4,
   "metadata": {},
   "outputs": [],
   "source": [
    "pattern_seq_dist = Distribution.of(pattern_sequence)\n",
    "    "
   ]
  },
  {
   "cell_type": "code",
   "execution_count": 5,
   "metadata": {},
   "outputs": [],
   "source": [
    "def similarity_score(array1, array2):\n",
    "    \"\"\"\n",
    "    TODO: Finds out how similar two array of values are in terms of scores. The similarity score doesn't have to be\n",
    "    interpolated into a value within range between 0 and 1, it is just a numeric value that can help you to rank and\n",
    "    get the top N similar subsequences to the given pattern sequence. The higher the score, the better matched the two\n",
    "    sequences.\n",
    "\n",
    "    Example: Similarity based on Euclidean distance.\n",
    "\n",
    "    :param array1: an array of numeric values\n",
    "    :param array2: an array of numeric values\n",
    "    :return: a score\n",
    "    \"\"\"\n",
    "    Simi_Score = distance.euclidean(array1,array2)\n",
    "    \n",
    "    return 1/(Simi_Score+1) "
   ]
  },
  {
   "cell_type": "code",
   "execution_count": 6,
   "metadata": {},
   "outputs": [
    {
     "name": "stdout",
     "output_type": "stream",
     "text": [
      "[66.8322057779, 69.4377449056, 70.1472685248, 71.3294070872, 65.027173719, 66.0881644285, 72.5121787887, 73.9048862867, 65.0726361109, 61.6423106027]\n",
      "[71.6509086403, 69.7981344373, 64.5170368058, 72.6997768232, 73.7623144349, 79.4202273511, 70.6256637714, 66.3091284963, 77.7091729118, 62.6737146203]\n",
      "[64.9652944616, 79.0759428086, 71.3090001834, 72.8164745638, 68.1402216713, 75.2722056883, 72.7851634033, 70.4346419999, 67.3171469761, 72.2869956423]\n"
     ]
    }
   ],
   "source": [
    "with open ('long_sequence.txt', 'r') as long:\n",
    "        \n",
    "        Lsize = 1000\n",
    "        Psize = len(pattern_sequence)\n",
    "        max_score = [[0,0],[0,0],[0,0]]\n",
    "        for j in range(1, 339):    # 340th number in long sequence couldn't be converted to float. Otherwise the upper bound should be Lsize-Psize+2\n",
    "            subseq = []\n",
    "            for i in range(0, 10):\n",
    "                line = long.readline()\n",
    "                num = float(line)\n",
    "                subseq = subseq + [num]\n",
    "        \n",
    "            \n",
    "            if len(subseq) != Psize:\n",
    "                continue\n",
    "            subsequence_dist = Distribution.of(subseq)\n",
    "            if not pattern_seq_dist.interval_overlap_with(subsequence_dist):\n",
    "                continue\n",
    "            if Distribution.overlap_proportion(pattern_seq_dist, subsequence_dist) < 0.5:\n",
    "                continue\n",
    "            \n",
    "            score = similarity_score(pattern_sequence, subseq)\n",
    "            max_score.sort()\n",
    "            \n",
    "            if max_score[0][0] < score :\n",
    "                    max_score[0] = [score , subseq]                 \n",
    "        \n",
    "        \n",
    "        for i in range(0,3):\n",
    "               print (max_score[i][1])    \n",
    "                \n",
    "                "
   ]
  },
  {
   "cell_type": "code",
   "execution_count": 164,
   "metadata": {},
   "outputs": [],
   "source": []
  },
  {
   "cell_type": "code",
   "execution_count": 165,
   "metadata": {},
   "outputs": [],
   "source": []
  },
  {
   "cell_type": "code",
   "execution_count": 166,
   "metadata": {},
   "outputs": [],
   "source": []
  },
  {
   "cell_type": "code",
   "execution_count": null,
   "metadata": {},
   "outputs": [],
   "source": []
  },
  {
   "cell_type": "code",
   "execution_count": 131,
   "metadata": {},
   "outputs": [],
   "source": []
  },
  {
   "cell_type": "code",
   "execution_count": null,
   "metadata": {},
   "outputs": [],
   "source": []
  }
 ],
 "metadata": {
  "kernelspec": {
   "display_name": "Python 3",
   "language": "python",
   "name": "python3"
  },
  "language_info": {
   "codemirror_mode": {
    "name": "ipython",
    "version": 3
   },
   "file_extension": ".py",
   "mimetype": "text/x-python",
   "name": "python",
   "nbconvert_exporter": "python",
   "pygments_lexer": "ipython3",
   "version": "3.6.5"
  }
 },
 "nbformat": 4,
 "nbformat_minor": 2
}
