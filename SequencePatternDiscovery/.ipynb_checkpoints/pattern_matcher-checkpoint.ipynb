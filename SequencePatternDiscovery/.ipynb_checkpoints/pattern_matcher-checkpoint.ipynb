{
 "cells": [
  {
   "cell_type": "code",
   "execution_count": 1,
   "metadata": {},
   "outputs": [],
   "source": [
    "import sys\n",
    "from distribution import Distribution"
   ]
  },
  {
   "cell_type": "code",
   "execution_count": 2,
   "metadata": {
    "collapsed": true
   },
   "outputs": [],
   "source": [
    "def sliding(array, window_size, step=1):\n",
    "    \"\"\"\n",
    "    TODO: Group elements of array in fixed size windows by running a sliding window over them.\n",
    "\n",
    "    Example:\n",
    "        when window_size = 2, step = 1, array = [1, 3, 6, 2, 1, 6]\n",
    "        result should be [[1, 3], [3, 6], [6, 2], [2, 1], [1, 6], [6]]\n",
    "    :param array: array\n",
    "    :param window_size: number of elements per group\n",
    "    :param step: the distance between the first elements of successive groups\n",
    "    :return: an array of grouped elements\n",
    "    \"\"\"\n",
    "    \n",
    "    subseqs = []\n",
    "\n",
    "    for i in range(0, len(array), step):\n",
    "        subseqs.append(array[i:i+window_size])\n",
    "    \n",
    "    return subseqs\n",
    "\n",
    "\n",
    "def similarity_score(array1, array2):\n",
    "    \"\"\"\n",
    "    TODO: Finds out how similar two array of values are in terms of scores. The similarity score doesn't have to be\n",
    "    interpolated into a value within range between 0 and 1, it is just a numeric value that can help you to rank and\n",
    "    get the top N similar subsequences to the given pattern sequence. The higher the score, the better matched the two\n",
    "    sequences.\n",
    "\n",
    "    Example: Similarity based on Euclidean distance.\n",
    "\n",
    "    :param array1: an array of numeric values\n",
    "    :param array2: an array of numeric values\n",
    "    :return: a score\n",
    "    \"\"\"\n",
    "    \n",
    "    # This is not the best scoring method and can be improved upon\n",
    "    # Using it for simplicty and will return to it if enough time left.\n",
    "    \n",
    "    abs_diff = 0.0\n",
    "    for value1, value2 in zip(array1, array2):\n",
    "        abs_diff += abs(value1 - value2)\n",
    "    \n",
    "    score = 1.0/(abs_diff+1.0)\n",
    "\n",
    "    return score"
   ]
  },
  {
   "cell_type": "code",
   "execution_count": 3,
   "metadata": {},
   "outputs": [
    {
     "data": {
      "text/plain": [
       "0.1111111111111111"
      ]
     },
     "execution_count": 3,
     "metadata": {},
     "output_type": "execute_result"
    }
   ],
   "source": [
    "array1 = [1, 3, 6, 2, 1, 6]\n",
    "array2 = [2, 1, 6, 2, 6, 6]\n",
    "similarity_score(array1, array2)"
   ]
  },
  {
   "cell_type": "code",
   "execution_count": 14,
   "metadata": {},
   "outputs": [
    {
     "name": "stdout",
     "output_type": "stream",
     "text": [
      "[1, 3, 6]\n",
      "[3, 6, 2]\n"
     ]
    }
   ],
   "source": [
    "subsequences = sliding(array1, 3)\n",
    "print(subsequences[0])\n",
    "print(subsequences[1])"
   ]
  },
  {
   "cell_type": "code",
   "execution_count": 18,
   "metadata": {},
   "outputs": [
    {
     "name": "stdout",
     "output_type": "stream",
     "text": [
      "1.0\n",
      "3.0\n",
      "3.0\n",
      "6.0\n"
     ]
    }
   ],
   "source": [
    "subsequences = sliding(array1, 2)\n",
    "subsequence_dist1 = Distribution.of(subsequences[0])\n",
    "subsequence_dist2 = Distribution.of(subsequences[1])\n",
    "print(subsequence_dist1.min)\n",
    "print(subsequence_dist1.max)\n",
    "print(subsequence_dist2.min)\n",
    "print(subsequence_dist2.max)"
   ]
  },
  {
   "cell_type": "code",
   "execution_count": 19,
   "metadata": {},
   "outputs": [
    {
     "data": {
      "text/plain": [
       "True"
      ]
     },
     "execution_count": 19,
     "metadata": {},
     "output_type": "execute_result"
    }
   ],
   "source": [
    "subsequence_dist2.interval_overlap_with(subsequence_dist1)"
   ]
  },
  {
   "cell_type": "code",
   "execution_count": 20,
   "metadata": {},
   "outputs": [
    {
     "data": {
      "text/plain": [
       "0.0"
      ]
     },
     "execution_count": 20,
     "metadata": {},
     "output_type": "execute_result"
    }
   ],
   "source": [
    "Distribution.overlap_proportion(subsequence_dist1, subsequence_dist2)"
   ]
  },
  {
   "cell_type": "code",
   "execution_count": null,
   "metadata": {
    "collapsed": true
   },
   "outputs": [],
   "source": [
    "pattern_sequence_path = './pattern_sequence.txt'\n",
    "long_sequence_path = './long_sequence.txt'\n",
    "\n",
    "pattern_sequence = []\n",
    "long_sequence = []\n",
    "\n",
    "# load defined pattern sequence\n",
    "with open(pattern_sequence_path) as f:\n",
    "    for line in f:\n",
    "        pattern_sequence.append(float(line.strip()))\n",
    "\n",
    "# load long sequence\n",
    "with open(long_sequence_path) as f:\n",
    "    for line in f:\n",
    "        long_sequence.append(float(line.strip()))\n",
    "\n",
    "pattern_seq_dist = Distribution.of(pattern_sequence)\n",
    "pattern_seq_len = len(pattern_sequence)"
   ]
  },
  {
   "cell_type": "code",
   "execution_count": null,
   "metadata": {
    "collapsed": true
   },
   "outputs": [],
   "source": [
    "subsequences = sliding(long_sequence, window_size=pattern_seq_len)\n",
    "similarity_scores = []\n",
    "\n",
    "for subsequence in subsequences:\n",
    "    # skip if length of the subsequence isn't equal to pattern sequence's\n",
    "    if len(subsequence) != pattern_seq_len:\n",
    "        continue\n",
    "\n",
    "    subsequence_dist = Distribution.of(subsequence)\n",
    "\n",
    "    # it is not necessary to compute similarity score for a subsequence with\n",
    "    # a distribution that is very different from pattern sequence's.\n",
    "    if not pattern_seq_dist.interval_overlap_with(subsequence_dist):\n",
    "        continue\n",
    "\n",
    "    if Distribution.overlap_proportion(pattern_seq_dist, subsequence_dist) < 0.5:\n",
    "        continue\n",
    "\n",
    "    similarity_scores.append(similarity_score(pattern_sequence, subsequence))\n",
    "\n",
    "sorted_subsequences = sorted(zip(subsequences, similarity_scores), key=lambda triple: triple[1], reverse=True)\n",
    "\n",
    "# show top three subsequences\n",
    "top_subsequences = sorted_subsequences[:3]\n",
    "for subsequence, _ in top_subsequences:\n",
    "    print(subsequence)"
   ]
  }
 ],
 "metadata": {
  "kernelspec": {
   "display_name": "Python 3",
   "language": "python",
   "name": "python3"
  },
  "language_info": {
   "codemirror_mode": {
    "name": "ipython",
    "version": 3
   },
   "file_extension": ".py",
   "mimetype": "text/x-python",
   "name": "python",
   "nbconvert_exporter": "python",
   "pygments_lexer": "ipython3",
   "version": "3.6.2"
  }
 },
 "nbformat": 4,
 "nbformat_minor": 2
}
